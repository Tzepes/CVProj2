{
 "cells": [
  {
   "cell_type": "code",
   "execution_count": 1,
   "id": "df88a5b7",
   "metadata": {},
   "outputs": [],
   "source": [
    "import cv2 as cv\n",
    "import numpy as np\n",
    "from sklearn.decomposition import PCA\n",
    "import os\n",
    "import re\n",
    "import glob"
   ]
  },
  {
   "cell_type": "code",
   "execution_count": 2,
   "id": "cca350ae",
   "metadata": {},
   "outputs": [],
   "source": [
    "def get_out_folder(file_name):\n",
    "    \"\"\"\n",
    "    Get the output folder path based on the input file name.\n",
    "    \"\"\"\n",
    "    # Extract the number\n",
    "    match = re.match(r\"(\\d+)_\", file_name)\n",
    "    if match:\n",
    "        number = int(match.group(1))\n",
    "    else:\n",
    "        number = \"unknown\"\n",
    "\n",
    "    # Check for 'query' or 'reference'\n",
    "    if \"query\" in file_name:\n",
    "        subfolder = \"query\"\n",
    "    elif \"reference\" in file_name:\n",
    "        subfolder = \"reference\"\n",
    "    else:\n",
    "        subfolder = \"other\"\n",
    "\n",
    "    output_folder = os.path.join(\"frames\", subfolder, f\"vid_{number}\")\n",
    "    return output_folder"
   ]
  },
  {
   "cell_type": "code",
   "execution_count": 3,
   "id": "f3f6e0bc",
   "metadata": {},
   "outputs": [],
   "source": [
    "def extract_frames(video_path, output_folder, target_fps=15, max_pixels=120000):\n",
    "    \"\"\"\n",
    "    Extract frames from a video and save them to the specified output folder.\n",
    "    Args:\n",
    "        video_path (str): Path to the input video file.\n",
    "        output_folder (str): Path to the folder where frames will be saved.\n",
    "    \"\"\"\n",
    "    \n",
    "    if not os.path.exists(output_folder):\n",
    "        os.makedirs(output_folder)\n",
    "        cap = cv.VideoCapture(video_path)\n",
    "        if not cap.isOpened():\n",
    "            raise IOError(f\"Cannot open video {video_path}\")\n",
    "        orig_fps = cap.get(cv.CAP_PROP_FPS) or target_fps\n",
    "        frame_step = max(int(round(orig_fps / target_fps)), 1)\n",
    "\n",
    "        orig_indices = []\n",
    "        count = 0\n",
    "        saved = 0\n",
    "        while True:\n",
    "            ret, frame = cap.read()\n",
    "            if not ret:\n",
    "                break\n",
    "            if count % frame_step == 0:\n",
    "                # Resize to max_pixels\n",
    "                h, w = frame.shape[:2]\n",
    "                scale = (max_pixels / float(w * h)) ** 0.5\n",
    "                if scale < 1.0:\n",
    "                    frame = cv.resize(frame, (int(w * scale), int(h * scale)), interpolation=cv.INTER_AREA)\n",
    "                # Save frame\n",
    "                cv.imwrite(os.path.join(output_folder, f\"frame_{saved:04d}.jpg\"), frame)\n",
    "                orig_indices.append(count)\n",
    "                saved += 1\n",
    "            count += 1\n",
    "        cap.release()\n",
    "        \n",
    "        return orig_fps, frame_step, orig_indices"
   ]
  },
  {
   "cell_type": "code",
   "execution_count": 4,
   "id": "469a83a5",
   "metadata": {},
   "outputs": [],
   "source": [
    "def match_query_to_reference(video_file, pca_model=None, target_fps=15, max_pixels=120000):\n",
    "    \"\"\"\n",
    "    Match query frames to reference frames using PCA for dimensionality reduction.\n",
    "    Args:\n",
    "        video_file (str): Path to the input video file.\n",
    "        pca_model (PCA, optional): Pre-trained PCA model. If None, a new model will be created.\n",
    "        pca_dim (int): Number of dimensions for PCA.\n",
    "        lambda_val (float): Regularization parameter for PCA.\n",
    "        fps (int): Frames per second for the video.\n",
    "    Returns:\n",
    "        tuple: Output folder path and PCA model.\n",
    "    \"\"\"\n",
    "    # Determine folders and extract frames if needed\n",
    "    print(f\"Processing video file: {video_file}...\")\n",
    "    out_folder = get_out_folder(os.path.basename(video_file))\n",
    "    orig_fps, frame_step, orig_indices = extract_frames(video_file, out_folder, target_fps, max_pixels)\n",
    "    return out_folder, pca_model, orig_fps, frame_step, orig_indices"
   ]
  },
  {
   "cell_type": "code",
   "execution_count": 5,
   "id": "4be2a2df",
   "metadata": {},
   "outputs": [],
   "source": [
    "def compute_hof_for_frame(prev_gray, gray, num_bins=8):\n",
    "    \"\"\"\n",
    "    Compute a histogram of optical flow (HOF) between prev_gray and gray.\n",
    "    - prev_gray, gray: two consecutive grayscale frames\n",
    "    - num_bins: number of orientation bins (e.g. 8 or 16)\n",
    "    Returns a (num_bins,) numpy array of flow magnitudes per orientation bin.\n",
    "    \"\"\"\n",
    "    # Compute dense flow\n",
    "    flow = cv.calcOpticalFlowFarneback(prev_gray, gray,\n",
    "                                       None,\n",
    "                                       pyr_scale=0.5,\n",
    "                                       levels=3,\n",
    "                                       winsize=15,\n",
    "                                       iterations=3,\n",
    "                                       poly_n=5,\n",
    "                                       poly_sigma=1.2,\n",
    "                                       flags=0)\n",
    "    mag, ang = cv.cartToPolar(flow[...,0], flow[...,1], angleInDegrees=True)\n",
    "    # Quantize angles into bins\n",
    "    bin_edges = np.linspace(0, 360, num_bins+1)\n",
    "    hof, _ = np.histogram(ang.flatten(), bins=bin_edges, weights=mag.flatten())\n",
    "    # Normalize\n",
    "    # if hof.sum() > 0:\n",
    "    #     hof = hof / hof.sum()\n",
    "    return hof"
   ]
  },
  {
   "cell_type": "code",
   "execution_count": 6,
   "id": "3b235cbe",
   "metadata": {},
   "outputs": [],
   "source": [
    "from tqdm import tqdm\n",
    "\n",
    "def load_frame_descriptors(    \n",
    "    frame_folder, sift,\n",
    "    pca_model=None, pca_dim=64,\n",
    "    fit_pca=False,\n",
    "    raw_hof_bins=8,\n",
    "    desired_hof_pca_dim=32\n",
    "    ):\n",
    "    # Could multithread\n",
    "    \n",
    "    \"\"\"\n",
    "    Returns:\n",
    "      descriptors: np.ndarray of shape (T, pca_dim + hof_out_dim)\n",
    "      pca_sift:    PCA model for SIFT\n",
    "      pca_hof:     PCA model for HOF (or None)\n",
    "      hof_out_dim: integer = number of HOF dims used\n",
    "    \"\"\"\n",
    "    frame_paths = sorted(glob.glob(os.path.join(frame_folder, \"frame_*.jpg\")))\n",
    "\n",
    "    # First pass: collect for PCA\n",
    "    sift_feats = []\n",
    "    hof_feats  = []\n",
    "    prev_gray  = None\n",
    "\n",
    "    for fp in tqdm(frame_paths, desc=\"Collecting descriptors for PCA and HOF\"):\n",
    "        img = cv.imread(fp, cv.IMREAD_GRAYSCALE)\n",
    "\n",
    "        # Collect SIFT descriptors\n",
    "        _, des = sift.detectAndCompute(img, None)\n",
    "        if fit_pca and des is not None:\n",
    "            sift_feats.append(des)\n",
    "\n",
    "        # Collect raw HOF (sqrt‑normalized)\n",
    "        if fit_pca and prev_gray is not None:\n",
    "            raw_hof = compute_hof_for_frame(prev_gray, img, num_bins=raw_hof_bins)\n",
    "            hof_feats.append(np.sqrt(raw_hof))\n",
    "\n",
    "        prev_gray = img\n",
    "\n",
    "    # Fit PCA on SIFT\n",
    "    if fit_pca and sift_feats:\n",
    "        stacked_sift = np.vstack(sift_feats)\n",
    "        pca_sift = PCA(n_components=pca_dim, whiten=True, svd_solver='auto')\n",
    "        pca_sift.fit(stacked_sift)\n",
    "    else:\n",
    "        pca_sift = pca_model  # may be None if called for reference\n",
    "\n",
    "    # Fit PCA on HOF\n",
    "    if fit_pca and hof_feats:\n",
    "        hof_stacked = np.vstack(hof_feats)\n",
    "        # maximum comps we can ask for\n",
    "        max_comp = min(hof_stacked.shape[0], hof_stacked.shape[1])\n",
    "        hof_out_dim = min(desired_hof_pca_dim, max_comp)\n",
    "        pca_hof = PCA(n_components=hof_out_dim, whiten=True, svd_solver='auto')\n",
    "        pca_hof.fit(hof_stacked)\n",
    "    else:\n",
    "        pca_hof    = None\n",
    "        hof_out_dim = raw_hof_bins\n",
    "\n",
    "    # Second pass: build frame vectors\n",
    "    all_descs = []\n",
    "    prev_gray = None\n",
    "    for fp in tqdm(frame_paths, desc=\"Extracting frame vectors\"):\n",
    "        img = cv.imread(fp, cv.IMREAD_GRAYSCALE)\n",
    "\n",
    "        # SIFT → PCA → mean\n",
    "        _, des = sift.detectAndCompute(img, None)\n",
    "        if des is not None and pca_sift is not None:\n",
    "            des_pca = pca_sift.transform(des)\n",
    "            sift_vec = np.mean(des_pca, axis=0)\n",
    "        else:\n",
    "            sift_vec = np.zeros(pca_dim, dtype=np.float32)\n",
    "\n",
    "        # raw HOF → √ → PCA (or zeros)\n",
    "        if prev_gray is not None:\n",
    "            raw_hof = compute_hof_for_frame(prev_gray, img, num_bins=raw_hof_bins)\n",
    "            raw_hof = np.sqrt(raw_hof)\n",
    "            if pca_hof is not None:\n",
    "                hof_vec = pca_hof.transform(raw_hof[np.newaxis, :])[0]\n",
    "            else:\n",
    "                hof_vec = np.zeros(hof_out_dim, dtype=np.float32)\n",
    "        else:\n",
    "            hof_vec = np.zeros(hof_out_dim, dtype=np.float32)\n",
    "\n",
    "        prev_gray = img\n",
    "\n",
    "        # Concatenate & normalize\n",
    "        frame_vec = np.hstack([sift_vec, hof_vec])\n",
    "        norm = np.linalg.norm(frame_vec)\n",
    "        if norm > 1e-6:\n",
    "            frame_vec /= norm\n",
    "        all_descs.append(frame_vec)\n",
    "\n",
    "    descriptors = np.vstack(all_descs)\n",
    "    \n",
    "        \n",
    "    print(f\"Extracted {len(all_descs)} frame vectors from {len(frame_paths)} frames.\")\n",
    "    # print(f\"Shape of each frame vector: {all_descs[0].shape if all_descs else 'N/A'}\")\n",
    "    # print(f\"Total number of frames processed: {len(all_descs)}\")\n",
    "    # print(f\"Shape of all descriptors: {np.array(all_descs).shape}\")\n",
    "    # print(f\"Shape of PCA model components: {pca_model.components_.shape if pca_model else 'N/A'}\")\n",
    "    return descriptors, pca_sift, pca_hof, hof_out_dim"
   ]
  },
  {
   "cell_type": "code",
   "execution_count": 7,
   "id": "7d0ae9f6",
   "metadata": {},
   "outputs": [],
   "source": [
    "def compute_cte_correlation(query_desc, ref_desc, lambda_val=1e-3):\n",
    "    Tq, D = query_desc.shape\n",
    "    Tr, _ = ref_desc.shape\n",
    "    N = 1 << int(np.ceil(np.log2(max(Tq, Tr))))\n",
    "    \n",
    "    N = max(len(query_desc), len(ref_desc))\n",
    "    \n",
    "    Q = np.zeros((N, D), dtype=np.float32)\n",
    "    R = np.zeros((N, D), dtype=np.float32)\n",
    "    Q[:Tq] = query_desc; R[:Tr] = ref_desc\n",
    "    Qf = np.fft.rfft(Q, n=N, axis=0)\n",
    "    Rf = np.fft.rfft(R, n=N, axis=0)\n",
    "    num = np.sum(np.conj(Qf) * Rf, axis=1)\n",
    "    den = np.sum(np.abs(Qf) ** 2, axis=1)\n",
    "    scores = np.fft.irfft(num / (den + lambda_val), n=N)\n",
    "    return scores"
   ]
  },
  {
   "cell_type": "code",
   "execution_count": 8,
   "id": "f079c6e0",
   "metadata": {},
   "outputs": [],
   "source": [
    "def find_best_offset(scores, fps=15):\n",
    "    best_frame = int(np.argmax(scores))\n",
    "    return best_frame, best_frame / fps"
   ]
  },
  {
   "cell_type": "code",
   "execution_count": 9,
   "id": "a0a3d48a",
   "metadata": {},
   "outputs": [],
   "source": [
    "ground_truth = [\n",
    "    585,\n",
    "    756,\n",
    "    650,\n",
    "    360,\n",
    "    340,\n",
    "    560,\n",
    "    590,\n",
    "    1497,\n",
    "    1196,\n",
    "    1160,\n",
    "    1120,\n",
    "    450,\n",
    "    636,\n",
    "    610,\n",
    "    1250\n",
    "]"
   ]
  },
  {
   "cell_type": "code",
   "execution_count": 10,
   "id": "fd063a20",
   "metadata": {},
   "outputs": [],
   "source": [
    "def evaluate_lambda(query_desc, ref_desc, true_frame, fps, r_map):\n",
    "    best = {}\n",
    "    for λ in [1e-4, 1e-5, 1e-6, 1e-7]:\n",
    "        scores = compute_cte_correlation(query_desc, ref_desc, lambda_val=λ)\n",
    "        \n",
    "        scores = scores[:len(r_map)]  # only keep valid time shifts\n",
    "        delta = np.argmax(scores)   \n",
    "        \n",
    "        delta, _ = find_best_offset(scores)\n",
    "        \n",
    "        delta = min(delta, len(r_map) - 1)\n",
    "        \n",
    "        pred_frame = r_map[delta]\n",
    "        err = abs(pred_frame - true_frame)\n",
    "        best[λ] = err\n",
    "        \n",
    "        print(f\"delta = {delta} | Ground truth = {ground_truth[0]} | len(r_map) = {len(r_map)} | max delta allowed = {len(r_map)-1} | r_map[delta] = {r_map[delta]} | error for λ={λ}: {err} frames\")\n",
    "        print(\"\")\n",
    "    return best"
   ]
  },
  {
   "cell_type": "code",
   "execution_count": 11,
   "id": "a5e26a11",
   "metadata": {},
   "outputs": [
    {
     "name": "stdout",
     "output_type": "stream",
     "text": [
      "Processing video pair 01: train/task1/01_query.mp4 (query) and train/task1/01_reference.mp4 (reference)\n",
      "Processing video file: train/task1/01_query.mp4...\n",
      "first time fitting PCA on query frames\n"
     ]
    },
    {
     "name": "stderr",
     "output_type": "stream",
     "text": [
      "Collecting descriptors for PCA and HOF: 100%|██████████| 60/60 [00:06<00:00,  9.03it/s]\n",
      "Extracting frame vectors: 100%|██████████| 60/60 [00:06<00:00,  9.46it/s]\n"
     ]
    },
    {
     "name": "stdout",
     "output_type": "stream",
     "text": [
      "Extracted 60 frame vectors from 60 frames.\n",
      "Processing video file: train/task1/01_reference.mp4...\n",
      "Extracting reference frames\n"
     ]
    },
    {
     "name": "stderr",
     "output_type": "stream",
     "text": [
      "Collecting descriptors for PCA and HOF: 100%|██████████| 600/600 [00:34<00:00, 17.30it/s]\n",
      "Extracting frame vectors: 100%|██████████| 600/600 [01:06<00:00,  9.04it/s]\n"
     ]
    },
    {
     "name": "stdout",
     "output_type": "stream",
     "text": [
      "Extracted 600 frame vectors from 600 frames.\n",
      "delta = 520 | Ground truth = 585 | len(r_map) = 600 | max delta allowed = 599 | r_map[delta] = 1560 | error for λ=0.0001: 975 frames\n",
      "\n",
      "delta = 520 | Ground truth = 585 | len(r_map) = 600 | max delta allowed = 599 | r_map[delta] = 1560 | error for λ=1e-05: 975 frames\n",
      "\n",
      "delta = 520 | Ground truth = 585 | len(r_map) = 600 | max delta allowed = 599 | r_map[delta] = 1560 | error for λ=1e-06: 975 frames\n",
      "\n",
      "delta = 520 | Ground truth = 585 | len(r_map) = 600 | max delta allowed = 599 | r_map[delta] = 1560 | error for λ=1e-07: 975 frames\n",
      "\n",
      "Scores: [0.00360108 0.00334865 0.00308839 0.00325445 0.00330568 0.00415078\n",
      " 0.00269749 0.00202305 0.0027124  0.00308144]\n",
      "Pair 01: offset 520 frames (17.33s)\n",
      "Processing video pair 02: train/task1/02_query.mp4 (query) and train/task1/02_reference.mp4 (reference)\n",
      "Processing video file: train/task1/02_query.mp4...\n",
      "first time fitting PCA on query frames\n"
     ]
    },
    {
     "name": "stderr",
     "output_type": "stream",
     "text": [
      "Collecting descriptors for PCA and HOF: 100%|██████████| 60/60 [00:06<00:00,  8.89it/s]\n",
      "Extracting frame vectors: 100%|██████████| 60/60 [00:06<00:00,  9.10it/s]\n"
     ]
    },
    {
     "name": "stdout",
     "output_type": "stream",
     "text": [
      "Extracted 60 frame vectors from 60 frames.\n",
      "Processing video file: train/task1/02_reference.mp4...\n",
      "Extracting reference frames\n"
     ]
    },
    {
     "name": "stderr",
     "output_type": "stream",
     "text": [
      "Collecting descriptors for PCA and HOF: 100%|██████████| 600/600 [00:37<00:00, 15.99it/s]\n",
      "Extracting frame vectors: 100%|██████████| 600/600 [01:07<00:00,  8.88it/s]\n"
     ]
    },
    {
     "name": "stdout",
     "output_type": "stream",
     "text": [
      "Extracted 600 frame vectors from 600 frames.\n",
      "delta = 480 | Ground truth = 585 | len(r_map) = 600 | max delta allowed = 599 | r_map[delta] = 1440 | error for λ=0.0001: 684 frames\n",
      "\n",
      "delta = 480 | Ground truth = 585 | len(r_map) = 600 | max delta allowed = 599 | r_map[delta] = 1440 | error for λ=1e-05: 684 frames\n",
      "\n",
      "delta = 480 | Ground truth = 585 | len(r_map) = 600 | max delta allowed = 599 | r_map[delta] = 1440 | error for λ=1e-06: 684 frames\n",
      "\n",
      "delta = 480 | Ground truth = 585 | len(r_map) = 600 | max delta allowed = 599 | r_map[delta] = 1440 | error for λ=1e-07: 684 frames\n",
      "\n",
      "Scores: [-0.00553432 -0.00660899 -0.00347821 -0.00519787 -0.00497417 -0.00484036\n",
      " -0.00540365 -0.00404712 -0.00518596 -0.00569419]\n",
      "Pair 02: offset 480 frames (16.00s)\n",
      "Processing video pair 03: train/task1/03_query.mp4 (query) and train/task1/03_reference.mp4 (reference)\n",
      "Processing video file: train/task1/03_query.mp4...\n",
      "first time fitting PCA on query frames\n"
     ]
    },
    {
     "name": "stderr",
     "output_type": "stream",
     "text": [
      "Collecting descriptors for PCA and HOF: 100%|██████████| 60/60 [00:06<00:00,  8.73it/s]\n",
      "Extracting frame vectors: 100%|██████████| 60/60 [00:06<00:00,  9.44it/s]\n"
     ]
    },
    {
     "name": "stdout",
     "output_type": "stream",
     "text": [
      "Extracted 60 frame vectors from 60 frames.\n",
      "Processing video file: train/task1/03_reference.mp4...\n",
      "Extracting reference frames\n"
     ]
    },
    {
     "name": "stderr",
     "output_type": "stream",
     "text": [
      "Collecting descriptors for PCA and HOF: 100%|██████████| 600/600 [00:36<00:00, 16.28it/s]\n",
      "Extracting frame vectors: 100%|██████████| 600/600 [01:10<00:00,  8.50it/s]\n"
     ]
    },
    {
     "name": "stdout",
     "output_type": "stream",
     "text": [
      "Extracted 600 frame vectors from 600 frames.\n",
      "delta = 84 | Ground truth = 585 | len(r_map) = 600 | max delta allowed = 599 | r_map[delta] = 252 | error for λ=0.0001: 398 frames\n",
      "\n",
      "delta = 84 | Ground truth = 585 | len(r_map) = 600 | max delta allowed = 599 | r_map[delta] = 252 | error for λ=1e-05: 398 frames\n",
      "\n",
      "delta = 84 | Ground truth = 585 | len(r_map) = 600 | max delta allowed = 599 | r_map[delta] = 252 | error for λ=1e-06: 398 frames\n",
      "\n",
      "delta = 84 | Ground truth = 585 | len(r_map) = 600 | max delta allowed = 599 | r_map[delta] = 252 | error for λ=1e-07: 398 frames\n",
      "\n",
      "Scores: [-0.01781645 -0.01710311 -0.01827013 -0.01742622 -0.01704448 -0.01701704\n",
      " -0.01591539 -0.01558572 -0.01722595 -0.01629225]\n",
      "Pair 03: offset 84 frames (2.80s)\n",
      "Processing video pair 04: train/task1/04_query.mp4 (query) and train/task1/04_reference.mp4 (reference)\n",
      "Processing video file: train/task1/04_query.mp4...\n",
      "first time fitting PCA on query frames\n"
     ]
    },
    {
     "name": "stderr",
     "output_type": "stream",
     "text": [
      "Collecting descriptors for PCA and HOF: 100%|██████████| 60/60 [00:07<00:00,  8.35it/s]\n",
      "Extracting frame vectors: 100%|██████████| 60/60 [00:07<00:00,  8.55it/s]\n"
     ]
    },
    {
     "name": "stdout",
     "output_type": "stream",
     "text": [
      "Extracted 60 frame vectors from 60 frames.\n",
      "Processing video file: train/task1/04_reference.mp4...\n",
      "Extracting reference frames\n"
     ]
    },
    {
     "name": "stderr",
     "output_type": "stream",
     "text": [
      "Collecting descriptors for PCA and HOF: 100%|██████████| 600/600 [00:34<00:00, 17.28it/s]\n",
      "Extracting frame vectors: 100%|██████████| 600/600 [01:06<00:00,  9.08it/s]\n"
     ]
    },
    {
     "name": "stdout",
     "output_type": "stream",
     "text": [
      "Extracted 600 frame vectors from 600 frames.\n",
      "delta = 429 | Ground truth = 585 | len(r_map) = 600 | max delta allowed = 599 | r_map[delta] = 1287 | error for λ=0.0001: 927 frames\n",
      "\n",
      "delta = 429 | Ground truth = 585 | len(r_map) = 600 | max delta allowed = 599 | r_map[delta] = 1287 | error for λ=1e-05: 927 frames\n",
      "\n",
      "delta = 429 | Ground truth = 585 | len(r_map) = 600 | max delta allowed = 599 | r_map[delta] = 1287 | error for λ=1e-06: 927 frames\n",
      "\n",
      "delta = 429 | Ground truth = 585 | len(r_map) = 600 | max delta allowed = 599 | r_map[delta] = 1287 | error for λ=1e-07: 927 frames\n",
      "\n",
      "Scores: [-0.00678516 -0.00809531 -0.00728215 -0.00673513 -0.00651465 -0.00698938\n",
      " -0.00623218 -0.00618358 -0.00611388 -0.00589147]\n",
      "Pair 04: offset 429 frames (14.30s)\n",
      "Processing video pair 05: train/task1/05_query.mp4 (query) and train/task1/05_reference.mp4 (reference)\n",
      "Processing video file: train/task1/05_query.mp4...\n",
      "first time fitting PCA on query frames\n"
     ]
    },
    {
     "name": "stderr",
     "output_type": "stream",
     "text": [
      "Collecting descriptors for PCA and HOF: 100%|██████████| 61/61 [00:07<00:00,  8.63it/s]\n",
      "Extracting frame vectors: 100%|██████████| 61/61 [00:06<00:00,  9.30it/s]\n"
     ]
    },
    {
     "name": "stdout",
     "output_type": "stream",
     "text": [
      "Extracted 61 frame vectors from 61 frames.\n",
      "Processing video file: train/task1/05_reference.mp4...\n",
      "Extracting reference frames\n"
     ]
    },
    {
     "name": "stderr",
     "output_type": "stream",
     "text": [
      "Collecting descriptors for PCA and HOF: 100%|██████████| 600/600 [00:34<00:00, 17.26it/s]\n",
      "Extracting frame vectors: 100%|██████████| 600/600 [01:05<00:00,  9.16it/s]\n"
     ]
    },
    {
     "name": "stdout",
     "output_type": "stream",
     "text": [
      "Extracted 600 frame vectors from 600 frames.\n",
      "delta = 40 | Ground truth = 585 | len(r_map) = 600 | max delta allowed = 599 | r_map[delta] = 120 | error for λ=0.0001: 220 frames\n",
      "\n",
      "delta = 40 | Ground truth = 585 | len(r_map) = 600 | max delta allowed = 599 | r_map[delta] = 120 | error for λ=1e-05: 220 frames\n",
      "\n",
      "delta = 40 | Ground truth = 585 | len(r_map) = 600 | max delta allowed = 599 | r_map[delta] = 120 | error for λ=1e-06: 220 frames\n",
      "\n",
      "delta = 40 | Ground truth = 585 | len(r_map) = 600 | max delta allowed = 599 | r_map[delta] = 120 | error for λ=1e-07: 220 frames\n",
      "\n",
      "Scores: [0.01161703 0.01077093 0.00970418 0.01192992 0.01186017 0.01238314\n",
      " 0.01309175 0.01097097 0.01223502 0.01187343]\n",
      "Pair 05: offset 40 frames (1.33s)\n",
      "Processing video pair 06: train/task1/06_query.mp4 (query) and train/task1/06_reference.mp4 (reference)\n",
      "Processing video file: train/task1/06_query.mp4...\n",
      "first time fitting PCA on query frames\n"
     ]
    },
    {
     "name": "stderr",
     "output_type": "stream",
     "text": [
      "Collecting descriptors for PCA and HOF: 100%|██████████| 60/60 [00:07<00:00,  7.59it/s]\n",
      "Extracting frame vectors: 100%|██████████| 60/60 [00:06<00:00,  9.06it/s]\n"
     ]
    },
    {
     "name": "stdout",
     "output_type": "stream",
     "text": [
      "Extracted 60 frame vectors from 60 frames.\n",
      "Processing video file: train/task1/06_reference.mp4...\n",
      "Extracting reference frames\n"
     ]
    },
    {
     "name": "stderr",
     "output_type": "stream",
     "text": [
      "Collecting descriptors for PCA and HOF: 100%|██████████| 600/600 [00:37<00:00, 16.13it/s]\n",
      "Extracting frame vectors: 100%|██████████| 600/600 [01:11<00:00,  8.38it/s]"
     ]
    },
    {
     "name": "stdout",
     "output_type": "stream",
     "text": [
      "Extracted 600 frame vectors from 600 frames.\n",
      "delta = 579 | Ground truth = 585 | len(r_map) = 600 | max delta allowed = 599 | r_map[delta] = 1737 | error for λ=0.0001: 1177 frames\n",
      "\n",
      "delta = 579 | Ground truth = 585 | len(r_map) = 600 | max delta allowed = 599 | r_map[delta] = 1737 | error for λ=1e-05: 1177 frames\n",
      "\n",
      "delta = 579 | Ground truth = 585 | len(r_map) = 600 | max delta allowed = 599 | r_map[delta] = 1737 | error for λ=1e-06: 1177 frames\n",
      "\n",
      "delta = 579 | Ground truth = 585 | len(r_map) = 600 | max delta allowed = 599 | r_map[delta] = 1737 | error for λ=1e-07: 1177 frames\n",
      "\n",
      "Scores: [-0.00277802 -0.00347049 -0.00474174 -0.0027376  -0.00625934 -0.00394242\n",
      " -0.00445636 -0.00245643 -0.00509675 -0.0054867 ]\n",
      "Pair 06: offset 579 frames (19.30s)\n"
     ]
    },
    {
     "name": "stderr",
     "output_type": "stream",
     "text": [
      "\n"
     ]
    }
   ],
   "source": [
    "sift = cv.SIFT_create()\n",
    "pca_model = None\n",
    "results = []\n",
    "\n",
    "videos_idx_limit = 6 # Limit to which video number we want to stop process (1 - 15)\n",
    "\n",
    "for idx in range(1, videos_idx_limit + 1):\n",
    "    q_file = f\"train/task1/{idx:02d}_query.mp4\"\n",
    "    r_file = f\"train/task1/{idx:02d}_reference.mp4\"\n",
    "    \n",
    "    print(f\"Processing video pair {idx:02d}: {q_file} (query) and {r_file} (reference)\")\n",
    "    \n",
    "    # Process query video\n",
    "    q_folder, pca_model, q_fps, q_step, q_map = match_query_to_reference(q_file, pca_model, target_fps=20, max_pixels=180000)\n",
    "    print(\"first time fitting PCA on query frames\")\n",
    "    q_desc, pca_sift, pca_hof, hof_dim = load_frame_descriptors(\n",
    "        q_folder, sift,\n",
    "        pca_model=None,\n",
    "        pca_dim=128,\n",
    "        fit_pca=True,\n",
    "        raw_hof_bins=8,\n",
    "        desired_hof_pca_dim=32\n",
    "    )\n",
    "    # Process reference video\n",
    "    r_folder, _, r_fps, r_step, r_map = match_query_to_reference(r_file, pca_model, target_fps=20, max_pixels=180000)\n",
    "    \n",
    "    print(\"Extracting reference frames\")\n",
    "    r_desc, _, _, _ = load_frame_descriptors(\n",
    "        r_folder, sift,\n",
    "        pca_model=pca_sift,\n",
    "        pca_dim=128,\n",
    "        fit_pca=False,\n",
    "        raw_hof_bins=8,\n",
    "        desired_hof_pca_dim=32\n",
    "    )\n",
    "    \n",
    "    errors = evaluate_lambda(q_desc, r_desc, ground_truth[idx-1], 30, r_map)\n",
    "\n",
    "    scores = compute_cte_correlation(q_desc, r_desc, lambda_val=1e-3)\n",
    "    scores = scores[:len(r_map)]\n",
    "\n",
    "    print(f\"Scores: {scores[:10]}\")  # Print first 10 scores for verification\n",
    "    best_frame, best_time = find_best_offset(scores, fps=30)\n",
    "    results.append((idx, best_frame, best_time))\n",
    "    print(f\"Pair {idx:02d}: offset {best_frame} frames ({best_time:.2f}s)\")\n",
    "    \n"
   ]
  },
  {
   "cell_type": "code",
   "execution_count": 12,
   "id": "c82dfe12",
   "metadata": {},
   "outputs": [
    {
     "name": "stdout",
     "output_type": "stream",
     "text": [
      "Ground truth differences: [65, 276, 566, 69, 300, 19]\n",
      "Accuracy: 16.67% (±60 frames tolerance)\n"
     ]
    }
   ],
   "source": [
    "frame_tolerance = 60  # Tolerance in frames for accuracy calculation\n",
    "accuracy = np.mean([abs(gt - bf) <= frame_tolerance for gt, (_, bf, _) in zip(ground_truth, results)])\n",
    "difference = [abs(gt - bf) for gt, (_, bf, _) in zip(ground_truth, results)]\n",
    "print(f\"Ground truth differences: {difference}\")\n",
    "print(f\"Accuracy: {accuracy:.2%} (±{frame_tolerance} frames tolerance)\")"
   ]
  }
 ],
 "metadata": {
  "kernelspec": {
   "display_name": "base",
   "language": "python",
   "name": "python3"
  },
  "language_info": {
   "codemirror_mode": {
    "name": "ipython",
    "version": 3
   },
   "file_extension": ".py",
   "mimetype": "text/x-python",
   "name": "python",
   "nbconvert_exporter": "python",
   "pygments_lexer": "ipython3",
   "version": "3.11.7"
  }
 },
 "nbformat": 4,
 "nbformat_minor": 5
}
