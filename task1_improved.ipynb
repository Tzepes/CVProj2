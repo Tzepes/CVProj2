{
 "cells": [
  {
   "cell_type": "code",
   "execution_count": 1,
   "id": "df88a5b7",
   "metadata": {},
   "outputs": [],
   "source": [
    "import cv2 as cv\n",
    "import numpy as np\n",
    "from sklearn.decomposition import PCA\n",
    "import os\n",
    "import re\n",
    "import glob\n",
    "from scipy.ndimage import gaussian_filter1d"
   ]
  },
  {
   "cell_type": "code",
   "execution_count": 2,
   "id": "cca350ae",
   "metadata": {},
   "outputs": [],
   "source": [
    "def get_out_folder(file_name):\n",
    "    \"\"\"\n",
    "    Get the output folder path based on the input file name.\n",
    "    \"\"\"\n",
    "    # Extract the number\n",
    "    match = re.match(r\"(\\d+)_\", file_name)\n",
    "    if match:\n",
    "        number = int(match.group(1))\n",
    "    else:\n",
    "        number = \"unknown\"\n",
    "\n",
    "    # Check for 'query' or 'reference'\n",
    "    if \"query\" in file_name:\n",
    "        subfolder = \"query\"\n",
    "    elif \"reference\" in file_name:\n",
    "        subfolder = \"reference\"\n",
    "    else:\n",
    "        subfolder = \"other\"\n",
    "\n",
    "    output_folder = os.path.join(\"frames\", subfolder, f\"vid_{number}\")\n",
    "    return output_folder"
   ]
  },
  {
   "cell_type": "code",
   "execution_count": 3,
   "id": "f3f6e0bc",
   "metadata": {},
   "outputs": [],
   "source": [
    "def extract_frames(video_path, output_folder, target_fps=15, max_pixels=120000):\n",
    "    \"\"\"\n",
    "    Extract frames from a video and save them to the specified output folder.\n",
    "    Args:\n",
    "        video_path (str): Path to the input video file.\n",
    "        output_folder (str): Path to the folder where frames will be saved.\n",
    "    \"\"\"\n",
    "    \n",
    "    if not os.path.exists(output_folder):\n",
    "        os.makedirs(output_folder)\n",
    "        cap = cv.VideoCapture(video_path)\n",
    "        if not cap.isOpened():\n",
    "            raise IOError(f\"Cannot open video {video_path}\")\n",
    "        orig_fps = cap.get(cv.CAP_PROP_FPS) or target_fps\n",
    "        frame_step = max(int(round(orig_fps / target_fps)), 1)\n",
    "\n",
    "        orig_indices = []\n",
    "        count = 0\n",
    "        saved = 0\n",
    "        while True:\n",
    "            ret, frame = cap.read()\n",
    "            if not ret:\n",
    "                break\n",
    "            if count % frame_step == 0:\n",
    "                # Resize to max_pixels\n",
    "                h, w = frame.shape[:2]\n",
    "                scale = (max_pixels / float(w * h)) ** 0.5\n",
    "                if scale < 1.0:\n",
    "                    frame = cv.resize(frame, (int(w * scale), int(h * scale)), interpolation=cv.INTER_AREA)\n",
    "                # Save frame\n",
    "                cv.imwrite(os.path.join(output_folder, f\"frame_{saved:04d}.jpg\"), frame)\n",
    "                orig_indices.append(count)\n",
    "                saved += 1\n",
    "            count += 1\n",
    "        cap.release()\n",
    "        \n",
    "        return orig_fps, frame_step, orig_indices"
   ]
  },
  {
   "cell_type": "code",
   "execution_count": 4,
   "id": "469a83a5",
   "metadata": {},
   "outputs": [],
   "source": [
    "def match_query_to_reference(video_file, pca_model=None, target_fps=15, max_pixels=120000):\n",
    "    \"\"\"\n",
    "    Match query frames to reference frames using PCA for dimensionality reduction.\n",
    "    Args:\n",
    "        video_file (str): Path to the input video file.\n",
    "        pca_model (PCA, optional): Pre-trained PCA model. If None, a new model will be created.\n",
    "        pca_dim (int): Number of dimensions for PCA.\n",
    "        lambda_val (float): Regularization parameter for PCA.\n",
    "        fps (int): Frames per second for the video.\n",
    "    Returns:\n",
    "        tuple: Output folder path and PCA model.\n",
    "    \"\"\"\n",
    "    # Determine folders and extract frames if needed\n",
    "    print(f\"Processing video file: {video_file}...\")\n",
    "    out_folder = get_out_folder(os.path.basename(video_file))\n",
    "    orig_fps, frame_step, orig_indices = extract_frames(video_file, out_folder, target_fps, max_pixels)\n",
    "    return out_folder, pca_model, orig_fps, frame_step, orig_indices"
   ]
  },
  {
   "cell_type": "code",
   "execution_count": 5,
   "id": "4be2a2df",
   "metadata": {},
   "outputs": [],
   "source": [
    "def compute_hof_for_frame(prev_gray, gray, num_bins=8):\n",
    "    \"\"\"\n",
    "    Compute a histogram of optical flow (HOF) between prev_gray and gray.\n",
    "    - prev_gray, gray: two consecutive grayscale frames\n",
    "    - num_bins: number of orientation bins (e.g. 8 or 16)\n",
    "    Returns a (num_bins,) numpy array of flow magnitudes per orientation bin.\n",
    "    \"\"\"\n",
    "    # Compute dense flow\n",
    "    flow = cv.calcOpticalFlowFarneback(prev_gray, gray,\n",
    "                                       None,\n",
    "                                       pyr_scale=0.5,\n",
    "                                       levels=3,\n",
    "                                       winsize=15,\n",
    "                                       iterations=3,\n",
    "                                       poly_n=5,\n",
    "                                       poly_sigma=1.2,\n",
    "                                       flags=0)\n",
    "    mag, ang = cv.cartToPolar(flow[...,0], flow[...,1], angleInDegrees=True)\n",
    "    # Quantize angles into bins\n",
    "    bin_edges = np.linspace(0, 360, num_bins+1)\n",
    "    hof, _ = np.histogram(ang.flatten(), bins=bin_edges, weights=mag.flatten())\n",
    "    # Normalize\n",
    "    # if hof.sum() > 0:\n",
    "    #     hof = hof / hof.sum()\n",
    "    return hof"
   ]
  },
  {
   "cell_type": "code",
   "execution_count": 6,
   "id": "3b235cbe",
   "metadata": {},
   "outputs": [],
   "source": [
    "from tqdm import tqdm\n",
    "\n",
    "def load_frame_descriptors(    \n",
    "    frame_folder, sift,\n",
    "    pca_model=None, pca_dim=64,\n",
    "    fit_pca=False,\n",
    "    raw_hof_bins=8,\n",
    "    desired_hof_pca_dim=32\n",
    "    ):\n",
    "    # Could multithread\n",
    "    \n",
    "    \"\"\"\n",
    "    Returns:\n",
    "      descriptors: np.ndarray of shape (T, pca_dim + hof_out_dim)\n",
    "      pca_sift:    PCA model for SIFT\n",
    "      pca_hof:     PCA model for HOF (or None)\n",
    "      hof_out_dim: integer = number of HOF dims used\n",
    "    \"\"\"\n",
    "    frame_paths = sorted(glob.glob(os.path.join(frame_folder, \"frame_*.jpg\")))\n",
    "\n",
    "    # First pass: collect for PCA\n",
    "    sift_feats = []\n",
    "    hof_feats  = []\n",
    "    prev_gray  = None\n",
    "\n",
    "    for fp in tqdm(frame_paths, desc=\"Collecting descriptors for PCA and HOF\"):\n",
    "        img = cv.imread(fp, cv.IMREAD_GRAYSCALE)\n",
    "\n",
    "        # Collect SIFT descriptors\n",
    "        _, des = sift.detectAndCompute(img, None)\n",
    "        if fit_pca and des is not None:\n",
    "            sift_feats.append(des)\n",
    "\n",
    "        # Collect raw HOF (sqrt‑normalized)\n",
    "        if fit_pca and prev_gray is not None:\n",
    "            raw_hof = compute_hof_for_frame(prev_gray, img, num_bins=raw_hof_bins)\n",
    "            hof_feats.append(np.sqrt(raw_hof))\n",
    "\n",
    "        prev_gray = img\n",
    "\n",
    "    # Fit PCA on SIFT\n",
    "    if fit_pca and sift_feats:\n",
    "        stacked_sift = np.vstack(sift_feats)\n",
    "        pca_sift = PCA(n_components=pca_dim, whiten=True, svd_solver='auto')\n",
    "        pca_sift.fit(stacked_sift)\n",
    "    else:\n",
    "        pca_sift = pca_model  # may be None if called for reference\n",
    "\n",
    "    # Fit PCA on HOF\n",
    "    if fit_pca and hof_feats:\n",
    "        hof_stacked = np.vstack(hof_feats)\n",
    "        # maximum comps we can ask for\n",
    "        max_comp = min(hof_stacked.shape[0], hof_stacked.shape[1])\n",
    "        hof_out_dim = min(desired_hof_pca_dim, max_comp)\n",
    "        pca_hof = PCA(n_components=hof_out_dim, whiten=True, svd_solver='auto')\n",
    "        pca_hof.fit(hof_stacked)\n",
    "    else:\n",
    "        pca_hof    = None\n",
    "        hof_out_dim = raw_hof_bins\n",
    "\n",
    "    # Second pass: build frame vectors\n",
    "    all_descs = []\n",
    "    prev_gray = None\n",
    "    for fp in tqdm(frame_paths, desc=\"Extracting frame vectors\"):\n",
    "        img = cv.imread(fp, cv.IMREAD_GRAYSCALE)\n",
    "\n",
    "        # SIFT → PCA → mean\n",
    "        _, des = sift.detectAndCompute(img, None)\n",
    "        if des is not None and pca_sift is not None:\n",
    "            des_pca = pca_sift.transform(des)\n",
    "            sift_vec = np.mean(des_pca, axis=0)\n",
    "        else:\n",
    "            sift_vec = np.zeros(pca_dim, dtype=np.float32)\n",
    "\n",
    "        # raw HOF → √ → PCA (or zeros)\n",
    "        if prev_gray is not None:\n",
    "            raw_hof = compute_hof_for_frame(prev_gray, img, num_bins=raw_hof_bins)\n",
    "            raw_hof = np.sqrt(raw_hof)\n",
    "            if pca_hof is not None:\n",
    "                hof_vec = pca_hof.transform(raw_hof[np.newaxis, :])[0]\n",
    "            else:\n",
    "                hof_vec = np.zeros(hof_out_dim, dtype=np.float32)\n",
    "        else:\n",
    "            hof_vec = np.zeros(hof_out_dim, dtype=np.float32)\n",
    "\n",
    "        prev_gray = img\n",
    "\n",
    "        # Concatenate & normalize\n",
    "        frame_vec = np.hstack([sift_vec, hof_vec])\n",
    "        norm = np.linalg.norm(frame_vec)\n",
    "        if norm > 1e-6:\n",
    "            frame_vec /= norm\n",
    "        all_descs.append(frame_vec)\n",
    "\n",
    "    descriptors = np.vstack(all_descs)\n",
    "    \n",
    "        \n",
    "    print(f\"Extracted {len(all_descs)} frame vectors from {len(frame_paths)} frames.\")\n",
    "    # print(f\"Shape of each frame vector: {all_descs[0].shape if all_descs else 'N/A'}\")\n",
    "    # print(f\"Total number of frames processed: {len(all_descs)}\")\n",
    "    # print(f\"Shape of all descriptors: {np.array(all_descs).shape}\")\n",
    "    # print(f\"Shape of PCA model components: {pca_model.components_.shape if pca_model else 'N/A'}\")\n",
    "    return descriptors, pca_sift, pca_hof, hof_out_dim"
   ]
  },
  {
   "cell_type": "code",
   "execution_count": 7,
   "id": "7d0ae9f6",
   "metadata": {},
   "outputs": [],
   "source": [
    "def compute_cte_correlation(query_desc, ref_desc, lambda_val=1e-3):\n",
    "    print(\"LAMBDA RECEVIED: \", lambda_val)\n",
    "    \n",
    "    Tq, D = query_desc.shape\n",
    "    Tr, _ = ref_desc.shape\n",
    "    N = 1 << int(np.ceil(np.log2(max(Tq, Tr))))\n",
    "    \n",
    "    N = max(len(query_desc), len(ref_desc))\n",
    "    \n",
    "    Q = np.zeros((N, D), dtype=np.float32)\n",
    "    R = np.zeros((N, D), dtype=np.float32)\n",
    "    Q[:Tq] = query_desc; R[:Tr] = ref_desc\n",
    "    Qf = np.fft.rfft(Q, n=N, axis=0)\n",
    "    Rf = np.fft.rfft(R, n=N, axis=0)\n",
    "    num = np.sum(np.conj(Qf) * Rf, axis=1)\n",
    "    den = np.sum(np.abs(Qf) ** 2, axis=1)\n",
    "    scores = np.fft.irfft(num / (den + lambda_val), n=N)\n",
    "    \n",
    "    smoothed_scores = gaussian_filter1d(scores, sigma=3)\n",
    "    \n",
    "    return smoothed_scores"
   ]
  },
  {
   "cell_type": "code",
   "execution_count": 8,
   "id": "f079c6e0",
   "metadata": {},
   "outputs": [],
   "source": [
    "def find_best_offset(scores, fps=15):\n",
    "    best_frame = int(np.argmax(scores))\n",
    "    return best_frame, best_frame / fps"
   ]
  },
  {
   "cell_type": "code",
   "execution_count": 9,
   "id": "a0a3d48a",
   "metadata": {},
   "outputs": [],
   "source": [
    "ground_truth = [\n",
    "    585,\n",
    "    756,\n",
    "    650,\n",
    "    360,\n",
    "    340,\n",
    "    560,\n",
    "    590,\n",
    "    1497,\n",
    "    1196,\n",
    "    1160,\n",
    "    1120,\n",
    "    450,\n",
    "    636,\n",
    "    610,\n",
    "    1250\n",
    "]"
   ]
  },
  {
   "cell_type": "code",
   "execution_count": null,
   "id": "fd063a20",
   "metadata": {},
   "outputs": [],
   "source": [
    "def evaluate_lambda(query_desc, ref_desc, true_frame, fps, r_map):\n",
    "    best = {}\n",
    "    lambda_vals = [1e-2, 1e-3, 1e-4, 1e-5, 1e-6, 1e-7, 1e-8]\n",
    "    for λ in lambda_vals:\n",
    "        scores = compute_cte_correlation(query_desc, ref_desc, lambda_val=λ)\n",
    "        \n",
    "        scores = scores[:len(r_map)]  # only keep valid time shifts\n",
    "        delta = np.argmin(scores)   \n",
    "        \n",
    "        delta, _ = find_best_offset(scores)\n",
    "        \n",
    "        delta = min(delta, len(r_map) - 1)\n",
    "        \n",
    "        pred_frame = r_map[delta]\n",
    "        err = abs(pred_frame - true_frame)\n",
    "        best[λ] = err\n",
    "        \n",
    "        print(f\"delta = {delta} | Ground truth = {ground_truth[0]} | len(r_map) = {len(r_map)} | max delta allowed = {len(r_map)-1} | r_map[delta] = {r_map[delta]} | error for λ={λ}: {err} frames\")\n",
    "        print(\"\")\n",
    "        \n",
    "        best_lambda = min(best, key=best.get)\n",
    "    return best_lambda"
   ]
  },
  {
   "cell_type": "code",
   "execution_count": 11,
   "id": "a5e26a11",
   "metadata": {},
   "outputs": [
    {
     "name": "stdout",
     "output_type": "stream",
     "text": [
      "Processing video pair 01: train/task1/01_query.mp4 (query) and train/task1/01_reference.mp4 (reference)\n",
      "Processing video file: train/task1/01_query.mp4...\n",
      "first time fitting PCA on query frames\n"
     ]
    },
    {
     "name": "stderr",
     "output_type": "stream",
     "text": [
      "Collecting descriptors for PCA and HOF: 100%|██████████| 60/60 [00:06<00:00,  9.59it/s]\n",
      "Extracting frame vectors: 100%|██████████| 60/60 [00:06<00:00,  9.53it/s]\n"
     ]
    },
    {
     "name": "stdout",
     "output_type": "stream",
     "text": [
      "Extracted 60 frame vectors from 60 frames.\n",
      "Processing video file: train/task1/01_reference.mp4...\n",
      "Extracting reference frames\n"
     ]
    },
    {
     "name": "stderr",
     "output_type": "stream",
     "text": [
      "Collecting descriptors for PCA and HOF: 100%|██████████| 600/600 [00:37<00:00, 16.02it/s]\n",
      "Extracting frame vectors: 100%|██████████| 600/600 [01:03<00:00,  9.41it/s]\n"
     ]
    },
    {
     "name": "stdout",
     "output_type": "stream",
     "text": [
      "Extracted 600 frame vectors from 600 frames.\n",
      "LAMBDA RECEVIED:  0.01\n",
      "delta = 0 | Ground truth = 585 | len(r_map) = 600 | max delta allowed = 599 | r_map[delta] = 0 | error for λ=0.01: 585 frames\n",
      "\n",
      "LAMBDA RECEVIED:  0.001\n",
      "delta = 0 | Ground truth = 585 | len(r_map) = 600 | max delta allowed = 599 | r_map[delta] = 0 | error for λ=0.001: 585 frames\n",
      "\n",
      "LAMBDA RECEVIED:  0.0001\n",
      "delta = 0 | Ground truth = 585 | len(r_map) = 600 | max delta allowed = 599 | r_map[delta] = 0 | error for λ=0.0001: 585 frames\n",
      "\n",
      "LAMBDA RECEVIED:  1e-05\n",
      "delta = 0 | Ground truth = 585 | len(r_map) = 600 | max delta allowed = 599 | r_map[delta] = 0 | error for λ=1e-05: 585 frames\n",
      "\n",
      "LAMBDA RECEVIED:  1e-06\n",
      "delta = 0 | Ground truth = 585 | len(r_map) = 600 | max delta allowed = 599 | r_map[delta] = 0 | error for λ=1e-06: 585 frames\n",
      "\n",
      "LAMBDA RECEVIED:  1e-07\n",
      "delta = 0 | Ground truth = 585 | len(r_map) = 600 | max delta allowed = 599 | r_map[delta] = 0 | error for λ=1e-07: 585 frames\n",
      "\n",
      "LAMBDA RECEVIED:  1e-08\n",
      "delta = 0 | Ground truth = 585 | len(r_map) = 600 | max delta allowed = 599 | r_map[delta] = 0 | error for λ=1e-08: 585 frames\n",
      "\n",
      "LAMBDA RECEVIED:  0.01\n",
      "Scores: [0.00335053 0.00333532 0.00330429 0.00325682 0.00319397 0.00312\n",
      " 0.00304194 0.00296635 0.0028948  0.00282218]\n",
      "Pair 01: offset 0 frames (0.00s)\n",
      "Processing video pair 02: train/task1/02_query.mp4 (query) and train/task1/02_reference.mp4 (reference)\n",
      "Processing video file: train/task1/02_query.mp4...\n",
      "first time fitting PCA on query frames\n"
     ]
    },
    {
     "name": "stderr",
     "output_type": "stream",
     "text": [
      "Collecting descriptors for PCA and HOF: 100%|██████████| 60/60 [00:06<00:00,  8.81it/s]\n",
      "Extracting frame vectors: 100%|██████████| 60/60 [00:06<00:00,  9.79it/s]\n"
     ]
    },
    {
     "name": "stdout",
     "output_type": "stream",
     "text": [
      "Extracted 60 frame vectors from 60 frames.\n",
      "Processing video file: train/task1/02_reference.mp4...\n",
      "Extracting reference frames\n"
     ]
    },
    {
     "name": "stderr",
     "output_type": "stream",
     "text": [
      "Collecting descriptors for PCA and HOF: 100%|██████████| 600/600 [00:32<00:00, 18.41it/s]\n",
      "Extracting frame vectors: 100%|██████████| 600/600 [01:03<00:00,  9.41it/s]\n"
     ]
    },
    {
     "name": "stdout",
     "output_type": "stream",
     "text": [
      "Extracted 600 frame vectors from 600 frames.\n",
      "LAMBDA RECEVIED:  0.01\n",
      "delta = 571 | Ground truth = 585 | len(r_map) = 600 | max delta allowed = 599 | r_map[delta] = 1713 | error for λ=0.01: 957 frames\n",
      "\n",
      "LAMBDA RECEVIED:  0.001\n",
      "delta = 571 | Ground truth = 585 | len(r_map) = 600 | max delta allowed = 599 | r_map[delta] = 1713 | error for λ=0.001: 957 frames\n",
      "\n",
      "LAMBDA RECEVIED:  0.0001\n",
      "delta = 571 | Ground truth = 585 | len(r_map) = 600 | max delta allowed = 599 | r_map[delta] = 1713 | error for λ=0.0001: 957 frames\n",
      "\n",
      "LAMBDA RECEVIED:  1e-05\n",
      "delta = 571 | Ground truth = 585 | len(r_map) = 600 | max delta allowed = 599 | r_map[delta] = 1713 | error for λ=1e-05: 957 frames\n",
      "\n",
      "LAMBDA RECEVIED:  1e-06\n",
      "delta = 571 | Ground truth = 585 | len(r_map) = 600 | max delta allowed = 599 | r_map[delta] = 1713 | error for λ=1e-06: 957 frames\n",
      "\n",
      "LAMBDA RECEVIED:  1e-07\n",
      "delta = 571 | Ground truth = 585 | len(r_map) = 600 | max delta allowed = 599 | r_map[delta] = 1713 | error for λ=1e-07: 957 frames\n",
      "\n",
      "LAMBDA RECEVIED:  1e-08\n",
      "delta = 571 | Ground truth = 585 | len(r_map) = 600 | max delta allowed = 599 | r_map[delta] = 1713 | error for λ=1e-08: 957 frames\n",
      "\n",
      "LAMBDA RECEVIED:  0.01\n",
      "Scores: [-0.00524317 -0.0052086  -0.00515234 -0.00509443 -0.00505403 -0.00504308\n",
      " -0.00506335 -0.00510679 -0.00515817 -0.0052004 ]\n",
      "Pair 02: offset 571 frames (19.03s)\n",
      "Processing video pair 03: train/task1/03_query.mp4 (query) and train/task1/03_reference.mp4 (reference)\n",
      "Processing video file: train/task1/03_query.mp4...\n",
      "first time fitting PCA on query frames\n"
     ]
    },
    {
     "name": "stderr",
     "output_type": "stream",
     "text": [
      "Collecting descriptors for PCA and HOF: 100%|██████████| 60/60 [00:06<00:00,  9.08it/s]\n",
      "Extracting frame vectors: 100%|██████████| 60/60 [00:05<00:00, 10.03it/s]\n"
     ]
    },
    {
     "name": "stdout",
     "output_type": "stream",
     "text": [
      "Extracted 60 frame vectors from 60 frames.\n",
      "Processing video file: train/task1/03_reference.mp4...\n",
      "Extracting reference frames\n"
     ]
    },
    {
     "name": "stderr",
     "output_type": "stream",
     "text": [
      "Collecting descriptors for PCA and HOF: 100%|██████████| 600/600 [00:33<00:00, 18.16it/s]\n",
      "Extracting frame vectors: 100%|██████████| 600/600 [01:02<00:00,  9.54it/s]\n"
     ]
    },
    {
     "name": "stdout",
     "output_type": "stream",
     "text": [
      "Extracted 600 frame vectors from 600 frames.\n",
      "LAMBDA RECEVIED:  0.01\n",
      "delta = 119 | Ground truth = 585 | len(r_map) = 600 | max delta allowed = 599 | r_map[delta] = 357 | error for λ=0.01: 293 frames\n",
      "\n",
      "LAMBDA RECEVIED:  0.001\n",
      "delta = 119 | Ground truth = 585 | len(r_map) = 600 | max delta allowed = 599 | r_map[delta] = 357 | error for λ=0.001: 293 frames\n",
      "\n",
      "LAMBDA RECEVIED:  0.0001\n",
      "delta = 119 | Ground truth = 585 | len(r_map) = 600 | max delta allowed = 599 | r_map[delta] = 357 | error for λ=0.0001: 293 frames\n",
      "\n",
      "LAMBDA RECEVIED:  1e-05\n",
      "delta = 119 | Ground truth = 585 | len(r_map) = 600 | max delta allowed = 599 | r_map[delta] = 357 | error for λ=1e-05: 293 frames\n",
      "\n",
      "LAMBDA RECEVIED:  1e-06\n",
      "delta = 119 | Ground truth = 585 | len(r_map) = 600 | max delta allowed = 599 | r_map[delta] = 357 | error for λ=1e-06: 293 frames\n",
      "\n",
      "LAMBDA RECEVIED:  1e-07\n",
      "delta = 119 | Ground truth = 585 | len(r_map) = 600 | max delta allowed = 599 | r_map[delta] = 357 | error for λ=1e-07: 293 frames\n",
      "\n",
      "LAMBDA RECEVIED:  1e-08\n",
      "delta = 119 | Ground truth = 585 | len(r_map) = 600 | max delta allowed = 599 | r_map[delta] = 357 | error for λ=1e-08: 293 frames\n",
      "\n",
      "LAMBDA RECEVIED:  0.01\n",
      "Scores: [-0.01747283 -0.01742216 -0.01732486 -0.01719102 -0.01703851 -0.01689087\n",
      " -0.01677064 -0.01669118 -0.01665115 -0.01663577]\n",
      "Pair 03: offset 119 frames (3.97s)\n",
      "Processing video pair 04: train/task1/04_query.mp4 (query) and train/task1/04_reference.mp4 (reference)\n",
      "Processing video file: train/task1/04_query.mp4...\n",
      "first time fitting PCA on query frames\n"
     ]
    },
    {
     "name": "stderr",
     "output_type": "stream",
     "text": [
      "Collecting descriptors for PCA and HOF: 100%|██████████| 60/60 [00:06<00:00,  9.43it/s]\n",
      "Extracting frame vectors: 100%|██████████| 60/60 [00:06<00:00,  9.06it/s]\n"
     ]
    },
    {
     "name": "stdout",
     "output_type": "stream",
     "text": [
      "Extracted 60 frame vectors from 60 frames.\n",
      "Processing video file: train/task1/04_reference.mp4...\n",
      "Extracting reference frames\n"
     ]
    },
    {
     "name": "stderr",
     "output_type": "stream",
     "text": [
      "Collecting descriptors for PCA and HOF: 100%|██████████| 600/600 [00:31<00:00, 19.04it/s]\n",
      "Extracting frame vectors: 100%|██████████| 600/600 [01:01<00:00,  9.68it/s]\n"
     ]
    },
    {
     "name": "stdout",
     "output_type": "stream",
     "text": [
      "Extracted 600 frame vectors from 600 frames.\n",
      "LAMBDA RECEVIED:  0.01\n",
      "delta = 431 | Ground truth = 585 | len(r_map) = 600 | max delta allowed = 599 | r_map[delta] = 1293 | error for λ=0.01: 933 frames\n",
      "\n",
      "LAMBDA RECEVIED:  0.001\n",
      "delta = 431 | Ground truth = 585 | len(r_map) = 600 | max delta allowed = 599 | r_map[delta] = 1293 | error for λ=0.001: 933 frames\n",
      "\n",
      "LAMBDA RECEVIED:  0.0001\n",
      "delta = 431 | Ground truth = 585 | len(r_map) = 600 | max delta allowed = 599 | r_map[delta] = 1293 | error for λ=0.0001: 933 frames\n",
      "\n",
      "LAMBDA RECEVIED:  1e-05\n",
      "delta = 431 | Ground truth = 585 | len(r_map) = 600 | max delta allowed = 599 | r_map[delta] = 1293 | error for λ=1e-05: 933 frames\n",
      "\n",
      "LAMBDA RECEVIED:  1e-06\n",
      "delta = 431 | Ground truth = 585 | len(r_map) = 600 | max delta allowed = 599 | r_map[delta] = 1293 | error for λ=1e-06: 933 frames\n",
      "\n",
      "LAMBDA RECEVIED:  1e-07\n",
      "delta = 431 | Ground truth = 585 | len(r_map) = 600 | max delta allowed = 599 | r_map[delta] = 1293 | error for λ=1e-07: 933 frames\n",
      "\n",
      "LAMBDA RECEVIED:  1e-08\n",
      "delta = 431 | Ground truth = 585 | len(r_map) = 600 | max delta allowed = 599 | r_map[delta] = 1293 | error for λ=1e-08: 933 frames\n",
      "\n",
      "LAMBDA RECEVIED:  0.01\n",
      "Scores: [-0.00712884 -0.0070857  -0.00700375 -0.00689159 -0.00676138 -0.00662735\n",
      " -0.00650384 -0.0064031  -0.00633358 -0.00629826]\n",
      "Pair 04: offset 431 frames (14.37s)\n",
      "Processing video pair 05: train/task1/05_query.mp4 (query) and train/task1/05_reference.mp4 (reference)\n",
      "Processing video file: train/task1/05_query.mp4...\n",
      "first time fitting PCA on query frames\n"
     ]
    },
    {
     "name": "stderr",
     "output_type": "stream",
     "text": [
      "Collecting descriptors for PCA and HOF: 100%|██████████| 61/61 [00:06<00:00,  9.49it/s]\n",
      "Extracting frame vectors: 100%|██████████| 61/61 [00:06<00:00,  9.48it/s]\n"
     ]
    },
    {
     "name": "stdout",
     "output_type": "stream",
     "text": [
      "Extracted 61 frame vectors from 61 frames.\n",
      "Processing video file: train/task1/05_reference.mp4...\n",
      "Extracting reference frames\n"
     ]
    },
    {
     "name": "stderr",
     "output_type": "stream",
     "text": [
      "Collecting descriptors for PCA and HOF: 100%|██████████| 600/600 [00:29<00:00, 20.27it/s]\n",
      "Extracting frame vectors: 100%|██████████| 600/600 [00:59<00:00, 10.02it/s]\n"
     ]
    },
    {
     "name": "stdout",
     "output_type": "stream",
     "text": [
      "Extracted 600 frame vectors from 600 frames.\n",
      "LAMBDA RECEVIED:  0.01\n",
      "delta = 297 | Ground truth = 585 | len(r_map) = 600 | max delta allowed = 599 | r_map[delta] = 891 | error for λ=0.01: 551 frames\n",
      "\n",
      "LAMBDA RECEVIED:  0.001\n",
      "delta = 297 | Ground truth = 585 | len(r_map) = 600 | max delta allowed = 599 | r_map[delta] = 891 | error for λ=0.001: 551 frames\n",
      "\n",
      "LAMBDA RECEVIED:  0.0001\n",
      "delta = 297 | Ground truth = 585 | len(r_map) = 600 | max delta allowed = 599 | r_map[delta] = 891 | error for λ=0.0001: 551 frames\n",
      "\n",
      "LAMBDA RECEVIED:  1e-05\n",
      "delta = 297 | Ground truth = 585 | len(r_map) = 600 | max delta allowed = 599 | r_map[delta] = 891 | error for λ=1e-05: 551 frames\n",
      "\n",
      "LAMBDA RECEVIED:  1e-06\n",
      "delta = 297 | Ground truth = 585 | len(r_map) = 600 | max delta allowed = 599 | r_map[delta] = 891 | error for λ=1e-06: 551 frames\n",
      "\n",
      "LAMBDA RECEVIED:  1e-07\n",
      "delta = 297 | Ground truth = 585 | len(r_map) = 600 | max delta allowed = 599 | r_map[delta] = 891 | error for λ=1e-07: 551 frames\n",
      "\n",
      "LAMBDA RECEVIED:  1e-08\n",
      "delta = 297 | Ground truth = 585 | len(r_map) = 600 | max delta allowed = 599 | r_map[delta] = 891 | error for λ=1e-08: 551 frames\n",
      "\n",
      "LAMBDA RECEVIED:  0.01\n",
      "Scores: [0.0111938  0.01124881 0.01135045 0.01148117 0.01161595 0.01172838\n",
      " 0.01179919 0.01182233 0.01180448 0.01175937]\n",
      "Pair 05: offset 297 frames (9.90s)\n",
      "Processing video pair 06: train/task1/06_query.mp4 (query) and train/task1/06_reference.mp4 (reference)\n",
      "Processing video file: train/task1/06_query.mp4...\n",
      "first time fitting PCA on query frames\n"
     ]
    },
    {
     "name": "stderr",
     "output_type": "stream",
     "text": [
      "Collecting descriptors for PCA and HOF: 100%|██████████| 60/60 [00:06<00:00,  9.39it/s]\n",
      "Extracting frame vectors: 100%|██████████| 60/60 [00:06<00:00,  9.59it/s]\n"
     ]
    },
    {
     "name": "stdout",
     "output_type": "stream",
     "text": [
      "Extracted 60 frame vectors from 60 frames.\n",
      "Processing video file: train/task1/06_reference.mp4...\n",
      "Extracting reference frames\n"
     ]
    },
    {
     "name": "stderr",
     "output_type": "stream",
     "text": [
      "Collecting descriptors for PCA and HOF: 100%|██████████| 600/600 [00:32<00:00, 18.30it/s]\n",
      "Extracting frame vectors: 100%|██████████| 600/600 [01:04<00:00,  9.23it/s]"
     ]
    },
    {
     "name": "stdout",
     "output_type": "stream",
     "text": [
      "Extracted 600 frame vectors from 600 frames.\n",
      "LAMBDA RECEVIED:  0.01\n",
      "delta = 567 | Ground truth = 585 | len(r_map) = 600 | max delta allowed = 599 | r_map[delta] = 1701 | error for λ=0.01: 1141 frames\n",
      "\n",
      "LAMBDA RECEVIED:  0.001\n",
      "delta = 567 | Ground truth = 585 | len(r_map) = 600 | max delta allowed = 599 | r_map[delta] = 1701 | error for λ=0.001: 1141 frames\n",
      "\n",
      "LAMBDA RECEVIED:  0.0001\n",
      "delta = 567 | Ground truth = 585 | len(r_map) = 600 | max delta allowed = 599 | r_map[delta] = 1701 | error for λ=0.0001: 1141 frames\n",
      "\n",
      "LAMBDA RECEVIED:  1e-05\n",
      "delta = 567 | Ground truth = 585 | len(r_map) = 600 | max delta allowed = 599 | r_map[delta] = 1701 | error for λ=1e-05: 1141 frames\n",
      "\n",
      "LAMBDA RECEVIED:  1e-06\n",
      "delta = 567 | Ground truth = 585 | len(r_map) = 600 | max delta allowed = 599 | r_map[delta] = 1701 | error for λ=1e-06: 1141 frames\n",
      "\n",
      "LAMBDA RECEVIED:  1e-07\n",
      "delta = 567 | Ground truth = 585 | len(r_map) = 600 | max delta allowed = 599 | r_map[delta] = 1701 | error for λ=1e-07: 1141 frames\n",
      "\n",
      "LAMBDA RECEVIED:  1e-08\n",
      "delta = 567 | Ground truth = 585 | len(r_map) = 600 | max delta allowed = 599 | r_map[delta] = 1701 | error for λ=1e-08: 1141 frames\n",
      "\n",
      "LAMBDA RECEVIED:  0.01\n",
      "Scores: [-0.00372417 -0.00378155 -0.0038799  -0.00399392 -0.00410071 -0.00418651\n",
      " -0.00424739 -0.00428338 -0.00429329 -0.00427563]\n",
      "Pair 06: offset 567 frames (18.90s)\n"
     ]
    },
    {
     "name": "stderr",
     "output_type": "stream",
     "text": [
      "\n"
     ]
    }
   ],
   "source": [
    "sift = cv.SIFT_create()\n",
    "pca_model = None\n",
    "results = []\n",
    "\n",
    "videos_idx_limit = 6 # Limit to which video number we want to stop process (1 - 15)\n",
    "\n",
    "for idx in range(1, videos_idx_limit + 1):\n",
    "    q_file = f\"train/task1/{idx:02d}_query.mp4\"\n",
    "    r_file = f\"train/task1/{idx:02d}_reference.mp4\"\n",
    "    \n",
    "    print(f\"Processing video pair {idx:02d}: {q_file} (query) and {r_file} (reference)\")\n",
    "    \n",
    "    # Process query video\n",
    "    q_folder, pca_model, q_fps, q_step, q_map = match_query_to_reference(q_file, pca_model, target_fps=20, max_pixels=180000)\n",
    "    print(\"first time fitting PCA on query frames\")\n",
    "    q_desc, pca_sift, pca_hof, hof_dim = load_frame_descriptors(\n",
    "        q_folder, sift,\n",
    "        pca_model=None,\n",
    "        pca_dim=128,\n",
    "        fit_pca=True,\n",
    "        raw_hof_bins=8,\n",
    "        desired_hof_pca_dim=32\n",
    "    )\n",
    "    # Process reference video\n",
    "    r_folder, _, r_fps, r_step, r_map = match_query_to_reference(r_file, pca_model, target_fps=20, max_pixels=180000)\n",
    "    \n",
    "    print(\"Extracting reference frames\")\n",
    "    r_desc, _, _, _ = load_frame_descriptors(\n",
    "        r_folder, sift,\n",
    "        pca_model=pca_sift,\n",
    "        pca_dim=128,\n",
    "        fit_pca=False,\n",
    "        raw_hof_bins=8,\n",
    "        desired_hof_pca_dim=32\n",
    "    )\n",
    "    \n",
    "    best_lambda = evaluate_lambda(q_desc, r_desc, ground_truth[idx-1], 30, r_map)\n",
    "\n",
    "    scores = compute_cte_correlation(q_desc, r_desc, lambda_val=best_lambda)\n",
    "    scores = scores[:len(r_map)]\n",
    "\n",
    "    print(f\"Scores: {scores[:10]}\")  # Print first 10 scores for verification\n",
    "    best_frame, best_time = find_best_offset(scores, fps=30)\n",
    "    results.append((idx, best_frame, best_time))\n",
    "    print(f\"Pair {idx:02d}: offset {best_frame} frames ({best_time:.2f}s)\")\n",
    "    \n"
   ]
  },
  {
   "cell_type": "code",
   "execution_count": 12,
   "id": "c82dfe12",
   "metadata": {},
   "outputs": [
    {
     "name": "stdout",
     "output_type": "stream",
     "text": [
      "Ground truth differences: [585, 185, 531, 71, 43, 7]\n",
      "Accuracy: 33.33% (±60 frames tolerance)\n"
     ]
    }
   ],
   "source": [
    "frame_tolerance = 60  # Tolerance in frames for accuracy calculation\n",
    "accuracy = np.mean([abs(gt - bf) <= frame_tolerance for gt, (_, bf, _) in zip(ground_truth, results)])\n",
    "difference = [abs(gt - bf) for gt, (_, bf, _) in zip(ground_truth, results)]\n",
    "print(f\"Ground truth differences: {difference}\")\n",
    "print(f\"Accuracy: {accuracy:.2%} (±{frame_tolerance} frames tolerance)\")"
   ]
  },
  {
   "cell_type": "code",
   "execution_count": 14,
   "id": "9617475c",
   "metadata": {},
   "outputs": [
    {
     "data": {
      "image/png": "[encoded data removed]",
      "text/plain": [
       "<Figure size 640x480 with 1 Axes>"
      ]
     },
     "metadata": {},
     "output_type": "display_data"
    }
   ],
   "source": [
    "import matplotlib.pyplot as plt\n",
    "\n",
    "plt.plot(scores, label=\"Raw\")\n",
    "plt.plot(gaussian_filter1d(scores, sigma=3), label=\"Smoothed\")\n",
    "plt.title(\"CTE scores for video 1\")\n",
    "plt.legend()\n",
    "plt.show()"
   ]
  }
 ],
 "metadata": {
  "kernelspec": {
   "display_name": "base",
   "language": "python",
   "name": "python3"
  },
  "language_info": {
   "codemirror_mode": {
    "name": "ipython",
    "version": 3
   },
   "file_extension": ".py",
   "mimetype": "text/x-python",
   "name": "python",
   "nbconvert_exporter": "python",
   "pygments_lexer": "ipython3",
   "version": "3.11.7"
  }
 },
 "nbformat": 4,
 "nbformat_minor": 5
}
